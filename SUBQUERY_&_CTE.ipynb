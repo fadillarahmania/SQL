{
  "cells": [
    {
      "cell_type": "markdown",
      "metadata": {
        "id": "8MR-7VMtEgaG"
      },
      "source": [
        "# <b>A. <span style='color:#0B2F9F'><code>SUB-QUERY</code></span></b>\n",
        "Subquery adalah sebuah query (pernyataan SQL) yang terletak di dalam query lain. Subquery dapat digunakan untuk mengambil data yang kemudian akan digunakan oleh query utama.<br><br>"
      ]
    },
    {
      "cell_type": "markdown",
      "metadata": {
        "id": "GvzGsHm9EgaO"
      },
      "source": [
        "#### <i><b><span style='color:#55679C'>Quest</span> : Pada tabel customer_demography, hitung rata-rata umur customer dan bulatkan ke dua tempat desimal!</b></i>"
      ]
    },
    {
      "cell_type": "code",
      "execution_count": null,
      "metadata": {
        "id": "gALUq6A1EgaQ",
        "outputId": "5342d693-8c10-4ca8-cfa5-0e5e9cd7bc68"
      },
      "outputs": [
        {
          "data": {
            "text/html": [
              "<style type=\"text/css\">\n",
              "</style>\n",
              "<table id=\"T_0789f\">\n",
              "  <thead>\n",
              "    <tr>\n",
              "      <th id=\"T_0789f_level0_col0\" class=\"col_heading level0 col0\" >avg_age</th>\n",
              "    </tr>\n",
              "  </thead>\n",
              "  <tbody>\n",
              "    <tr>\n",
              "      <td id=\"T_0789f_row0_col0\" class=\"data row0 col0\" >46.51</td>\n",
              "    </tr>\n",
              "  </tbody>\n",
              "</table>\n"
            ],
            "text/plain": [
              "<pandas.io.formats.style.Styler at 0x13804a7d0>"
            ]
          },
          "metadata": {},
          "output_type": "display_data"
        }
      ],
      "source": [
        "SELECT\n",
        "  ROUND(AVG(age),2) as avg_age\n",
        "FROM telco_churn.customer_demography"
      ]
    },
    {
      "cell_type": "markdown",
      "metadata": {
        "id": "LwancvzrEgaS"
      },
      "source": [
        "#### <i><b><span style='color:#55679C'>Quest</span> : Pada tabel customer_demography, tampilkan customer_id, age dan gendernya dimana umur customer tersebut lebih dari rata-rata umur customer secara keseluruhan!</b></i>"
      ]
    },
    {
      "cell_type": "code",
      "execution_count": null,
      "metadata": {
        "id": "99EjLhkuEgaT",
        "outputId": "1685fb6e-d1be-4d96-dae5-d1f106396da2"
      },
      "outputs": [
        {
          "data": {
            "text/html": [
              "<style type=\"text/css\">\n",
              "</style>\n",
              "<table id=\"T_82f5d\">\n",
              "  <thead>\n",
              "    <tr>\n",
              "      <th id=\"T_82f5d_level0_col0\" class=\"col_heading level0 col0\" >customer_id</th>\n",
              "      <th id=\"T_82f5d_level0_col1\" class=\"col_heading level0 col1\" >gender</th>\n",
              "      <th id=\"T_82f5d_level0_col2\" class=\"col_heading level0 col2\" >age</th>\n",
              "      <th id=\"T_82f5d_level0_col3\" class=\"col_heading level0 col3\" >senior_citizen</th>\n",
              "      <th id=\"T_82f5d_level0_col4\" class=\"col_heading level0 col4\" >married</th>\n",
              "      <th id=\"T_82f5d_level0_col5\" class=\"col_heading level0 col5\" >number_of_dependents</th>\n",
              "    </tr>\n",
              "  </thead>\n",
              "  <tbody>\n",
              "    <tr>\n",
              "      <td id=\"T_82f5d_row0_col0\" class=\"data row0 col0\" >4827-LTQRJ</td>\n",
              "      <td id=\"T_82f5d_row0_col1\" class=\"data row0 col1\" >Female</td>\n",
              "      <td id=\"T_82f5d_row0_col2\" class=\"data row0 col2\" >70</td>\n",
              "      <td id=\"T_82f5d_row0_col3\" class=\"data row0 col3\" >Yes</td>\n",
              "      <td id=\"T_82f5d_row0_col4\" class=\"data row0 col4\" >Yes</td>\n",
              "      <td id=\"T_82f5d_row0_col5\" class=\"data row0 col5\" >2</td>\n",
              "    </tr>\n",
              "    <tr>\n",
              "      <td id=\"T_82f5d_row1_col0\" class=\"data row1 col0\" >8809-XKHMD</td>\n",
              "      <td id=\"T_82f5d_row1_col1\" class=\"data row1 col1\" >Male</td>\n",
              "      <td id=\"T_82f5d_row1_col2\" class=\"data row1 col2\" >62</td>\n",
              "      <td id=\"T_82f5d_row1_col3\" class=\"data row1 col3\" >No</td>\n",
              "      <td id=\"T_82f5d_row1_col4\" class=\"data row1 col4\" >Yes</td>\n",
              "      <td id=\"T_82f5d_row1_col5\" class=\"data row1 col5\" >0</td>\n",
              "    </tr>\n",
              "    <tr>\n",
              "      <td id=\"T_82f5d_row2_col0\" class=\"data row2 col0\" >3768-NLUBH</td>\n",
              "      <td id=\"T_82f5d_row2_col1\" class=\"data row2 col1\" >Male</td>\n",
              "      <td id=\"T_82f5d_row2_col2\" class=\"data row2 col2\" >73</td>\n",
              "      <td id=\"T_82f5d_row2_col3\" class=\"data row2 col3\" >Yes</td>\n",
              "      <td id=\"T_82f5d_row2_col4\" class=\"data row2 col4\" >Yes</td>\n",
              "      <td id=\"T_82f5d_row2_col5\" class=\"data row2 col5\" >0</td>\n",
              "    </tr>\n",
              "    <tr>\n",
              "      <td id=\"T_82f5d_row3_col0\" class=\"data row3 col0\" >8807-ARQET</td>\n",
              "      <td id=\"T_82f5d_row3_col1\" class=\"data row3 col1\" >Female</td>\n",
              "      <td id=\"T_82f5d_row3_col2\" class=\"data row3 col2\" >59</td>\n",
              "      <td id=\"T_82f5d_row3_col3\" class=\"data row3 col3\" >No</td>\n",
              "      <td id=\"T_82f5d_row3_col4\" class=\"data row3 col4\" >No</td>\n",
              "      <td id=\"T_82f5d_row3_col5\" class=\"data row3 col5\" >0</td>\n",
              "    </tr>\n",
              "    <tr>\n",
              "      <td id=\"T_82f5d_row4_col0\" class=\"data row4 col0\" >5546-BYZSM</td>\n",
              "      <td id=\"T_82f5d_row4_col1\" class=\"data row4 col1\" >Female</td>\n",
              "      <td id=\"T_82f5d_row4_col2\" class=\"data row4 col2\" >52</td>\n",
              "      <td id=\"T_82f5d_row4_col3\" class=\"data row4 col3\" >No</td>\n",
              "      <td id=\"T_82f5d_row4_col4\" class=\"data row4 col4\" >No</td>\n",
              "      <td id=\"T_82f5d_row4_col5\" class=\"data row4 col5\" >0</td>\n",
              "    </tr>\n",
              "    <tr>\n",
              "      <td id=\"T_82f5d_row5_col0\" class=\"data row5 col0\" >...</td>\n",
              "      <td id=\"T_82f5d_row5_col1\" class=\"data row5 col1\" >...</td>\n",
              "      <td id=\"T_82f5d_row5_col2\" class=\"data row5 col2\" >...</td>\n",
              "      <td id=\"T_82f5d_row5_col3\" class=\"data row5 col3\" >...</td>\n",
              "      <td id=\"T_82f5d_row5_col4\" class=\"data row5 col4\" >...</td>\n",
              "      <td id=\"T_82f5d_row5_col5\" class=\"data row5 col5\" >...</td>\n",
              "    </tr>\n",
              "  </tbody>\n",
              "</table>\n"
            ],
            "text/plain": [
              "<pandas.io.formats.style.Styler at 0x1380b1950>"
            ]
          },
          "metadata": {},
          "output_type": "display_data"
        }
      ],
      "source": [
        "SELECT\n",
        "  customer_id,\n",
        "  age,\n",
        "  gender\n",
        "from `telco_churn.customer_demography`\n",
        "where age > (SELECT ROUND(AVG(age),2) as avg_age FROM telco_churn.customer_demography)"
      ]
    },
    {
      "cell_type": "markdown",
      "metadata": {
        "id": "qhyqAobCEgaT"
      },
      "source": [
        "#### <i><b><span style='color:#55679C'>Quest</span> : Pada tabel customer_demography, ada berapa customer yang lebih dari rata-rata umur customer secara keseluruhan?</b></i>"
      ]
    },
    {
      "cell_type": "code",
      "execution_count": null,
      "metadata": {
        "id": "cENRPGtTEgaU",
        "outputId": "6e64a717-e014-4d07-f5dc-3e8889787899"
      },
      "outputs": [
        {
          "data": {
            "text/html": [
              "<style type=\"text/css\">\n",
              "</style>\n",
              "<table id=\"T_20883\">\n",
              "  <thead>\n",
              "    <tr>\n",
              "      <th id=\"T_20883_level0_col0\" class=\"col_heading level0 col0\" >total_customer</th>\n",
              "    </tr>\n",
              "  </thead>\n",
              "  <tbody>\n",
              "    <tr>\n",
              "      <td id=\"T_20883_row0_col0\" class=\"data row0 col0\" >3452</td>\n",
              "    </tr>\n",
              "  </tbody>\n",
              "</table>\n"
            ],
            "text/plain": [
              "<pandas.io.formats.style.Styler at 0x13842c190>"
            ]
          },
          "metadata": {},
          "output_type": "display_data"
        }
      ],
      "source": [
        "SELECT\n",
        "  COUNT(1) as total_customer\n",
        "from `telco_churn.customer_demography`\n",
        "where age > (SELECT ROUND(AVG(age),2) as avg_age FROM telco_churn.customer_demography)\n",
        "\n",
        "ALIAS\n",
        "\n",
        "SELECT\n",
        "  COUNT(age > (SELECT ROUND(AVG(age),2) as avg_age FROM telco_churn.customer_demography)) as total_customer\n",
        "from `telco_churn.customer_demography`\n",
        "where age > (SELECT ROUND(AVG(age),2) as avg_age FROM telco_churn.customer_demography)"
      ]
    },
    {
      "cell_type": "markdown",
      "metadata": {
        "id": "8w-kZs5XEgaU"
      },
      "source": [
        "#### <i><b><span style='color:#55679C'>Quest</span> : Pada tabel customer_demography, berapa usia termuda dan tertua customer yang lebih dari rata-rata umur customer secara keseluruhan?</b></i>"
      ]
    },
    {
      "cell_type": "code",
      "execution_count": null,
      "metadata": {
        "id": "lppG3TACEgaV",
        "outputId": "b700c8ec-df1e-4cf1-89d1-dfdbd38c9015"
      },
      "outputs": [
        {
          "data": {
            "text/html": [
              "<style type=\"text/css\">\n",
              "</style>\n",
              "<table id=\"T_7f189\">\n",
              "  <thead>\n",
              "    <tr>\n",
              "      <th id=\"T_7f189_level0_col0\" class=\"col_heading level0 col0\" >min_age</th>\n",
              "      <th id=\"T_7f189_level0_col1\" class=\"col_heading level0 col1\" >max_age</th>\n",
              "    </tr>\n",
              "  </thead>\n",
              "  <tbody>\n",
              "    <tr>\n",
              "      <td id=\"T_7f189_row0_col0\" class=\"data row0 col0\" >47</td>\n",
              "      <td id=\"T_7f189_row0_col1\" class=\"data row0 col1\" >80</td>\n",
              "    </tr>\n",
              "  </tbody>\n",
              "</table>\n"
            ],
            "text/plain": [
              "<pandas.io.formats.style.Styler at 0x12f8b3750>"
            ]
          },
          "metadata": {},
          "output_type": "display_data"
        }
      ],
      "source": [
        "SELECT\n",
        "  MIN(age) as min_age,\n",
        "  MAX(age) as max_age\n",
        "from `telco_churn.customer_demography`\n",
        "where age > (SELECT ROUND(AVG(age),2) as avg_age FROM telco_churn.customer_demography)"
      ]
    },
    {
      "cell_type": "markdown",
      "metadata": {
        "id": "7joFhCsZEgaW"
      },
      "source": [
        "#### <i><b><span style='color:#55679C'>Quest</span> : Pada tabel customer_status, tampilkan semua data dengan cltv kurang dari atau sama dengan rata-rata cltv customer secara keseluruhan dan statusnya selain Churned?</b></i>"
      ]
    },
    {
      "cell_type": "code",
      "execution_count": null,
      "metadata": {
        "id": "2f3uPz4oEgaW",
        "outputId": "28c334b3-7273-4975-a0d1-bd4a241903fa"
      },
      "outputs": [
        {
          "data": {
            "text/html": [
              "<style type=\"text/css\">\n",
              "</style>\n",
              "<table id=\"T_daf65\">\n",
              "  <thead>\n",
              "    <tr>\n",
              "      <th id=\"T_daf65_level0_col0\" class=\"col_heading level0 col0\" >customer_id</th>\n",
              "      <th id=\"T_daf65_level0_col1\" class=\"col_heading level0 col1\" >satisfaction_score</th>\n",
              "      <th id=\"T_daf65_level0_col2\" class=\"col_heading level0 col2\" >status</th>\n",
              "      <th id=\"T_daf65_level0_col3\" class=\"col_heading level0 col3\" >churn_label</th>\n",
              "      <th id=\"T_daf65_level0_col4\" class=\"col_heading level0 col4\" >churn_score</th>\n",
              "      <th id=\"T_daf65_level0_col5\" class=\"col_heading level0 col5\" >cltv</th>\n",
              "      <th id=\"T_daf65_level0_col6\" class=\"col_heading level0 col6\" >churn_category</th>\n",
              "      <th id=\"T_daf65_level0_col7\" class=\"col_heading level0 col7\" >churn_reason</th>\n",
              "    </tr>\n",
              "  </thead>\n",
              "  <tbody>\n",
              "    <tr>\n",
              "      <td id=\"T_daf65_row0_col0\" class=\"data row0 col0\" >6867-ACCZI</td>\n",
              "      <td id=\"T_daf65_row0_col1\" class=\"data row0 col1\" >3</td>\n",
              "      <td id=\"T_daf65_row0_col2\" class=\"data row0 col2\" >Stayed</td>\n",
              "      <td id=\"T_daf65_row0_col3\" class=\"data row0 col3\" >No</td>\n",
              "      <td id=\"T_daf65_row0_col4\" class=\"data row0 col4\" >47</td>\n",
              "      <td id=\"T_daf65_row0_col5\" class=\"data row0 col5\" >3303</td>\n",
              "      <td id=\"T_daf65_row0_col6\" class=\"data row0 col6\" >nan</td>\n",
              "      <td id=\"T_daf65_row0_col7\" class=\"data row0 col7\" >nan</td>\n",
              "    </tr>\n",
              "    <tr>\n",
              "      <td id=\"T_daf65_row1_col0\" class=\"data row1 col0\" >3016-KSVCP</td>\n",
              "      <td id=\"T_daf65_row1_col1\" class=\"data row1 col1\" >3</td>\n",
              "      <td id=\"T_daf65_row1_col2\" class=\"data row1 col2\" >Stayed</td>\n",
              "      <td id=\"T_daf65_row1_col3\" class=\"data row1 col3\" >No</td>\n",
              "      <td id=\"T_daf65_row1_col4\" class=\"data row1 col4\" >62</td>\n",
              "      <td id=\"T_daf65_row1_col5\" class=\"data row1 col5\" >3664</td>\n",
              "      <td id=\"T_daf65_row1_col6\" class=\"data row1 col6\" >nan</td>\n",
              "      <td id=\"T_daf65_row1_col7\" class=\"data row1 col7\" >nan</td>\n",
              "    </tr>\n",
              "    <tr>\n",
              "      <td id=\"T_daf65_row2_col0\" class=\"data row2 col0\" >3948-FVVRP</td>\n",
              "      <td id=\"T_daf65_row2_col1\" class=\"data row2 col1\" >4</td>\n",
              "      <td id=\"T_daf65_row2_col2\" class=\"data row2 col2\" >Stayed</td>\n",
              "      <td id=\"T_daf65_row2_col3\" class=\"data row2 col3\" >No</td>\n",
              "      <td id=\"T_daf65_row2_col4\" class=\"data row2 col4\" >73</td>\n",
              "      <td id=\"T_daf65_row2_col5\" class=\"data row2 col5\" >2848</td>\n",
              "      <td id=\"T_daf65_row2_col6\" class=\"data row2 col6\" >nan</td>\n",
              "      <td id=\"T_daf65_row2_col7\" class=\"data row2 col7\" >nan</td>\n",
              "    </tr>\n",
              "    <tr>\n",
              "      <td id=\"T_daf65_row3_col0\" class=\"data row3 col0\" >6047-SUHPR</td>\n",
              "      <td id=\"T_daf65_row3_col1\" class=\"data row3 col1\" >3</td>\n",
              "      <td id=\"T_daf65_row3_col2\" class=\"data row3 col2\" >Stayed</td>\n",
              "      <td id=\"T_daf65_row3_col3\" class=\"data row3 col3\" >No</td>\n",
              "      <td id=\"T_daf65_row3_col4\" class=\"data row3 col4\" >58</td>\n",
              "      <td id=\"T_daf65_row3_col5\" class=\"data row3 col5\" >3093</td>\n",
              "      <td id=\"T_daf65_row3_col6\" class=\"data row3 col6\" >nan</td>\n",
              "      <td id=\"T_daf65_row3_col7\" class=\"data row3 col7\" >nan</td>\n",
              "    </tr>\n",
              "    <tr>\n",
              "      <td id=\"T_daf65_row4_col0\" class=\"data row4 col0\" >6522-OIQSX</td>\n",
              "      <td id=\"T_daf65_row4_col1\" class=\"data row4 col1\" >4</td>\n",
              "      <td id=\"T_daf65_row4_col2\" class=\"data row4 col2\" >Stayed</td>\n",
              "      <td id=\"T_daf65_row4_col3\" class=\"data row4 col3\" >No</td>\n",
              "      <td id=\"T_daf65_row4_col4\" class=\"data row4 col4\" >23</td>\n",
              "      <td id=\"T_daf65_row4_col5\" class=\"data row4 col5\" >4175</td>\n",
              "      <td id=\"T_daf65_row4_col6\" class=\"data row4 col6\" >nan</td>\n",
              "      <td id=\"T_daf65_row4_col7\" class=\"data row4 col7\" >nan</td>\n",
              "    </tr>\n",
              "    <tr>\n",
              "      <td id=\"T_daf65_row5_col0\" class=\"data row5 col0\" >...</td>\n",
              "      <td id=\"T_daf65_row5_col1\" class=\"data row5 col1\" >...</td>\n",
              "      <td id=\"T_daf65_row5_col2\" class=\"data row5 col2\" >...</td>\n",
              "      <td id=\"T_daf65_row5_col3\" class=\"data row5 col3\" >...</td>\n",
              "      <td id=\"T_daf65_row5_col4\" class=\"data row5 col4\" >...</td>\n",
              "      <td id=\"T_daf65_row5_col5\" class=\"data row5 col5\" >...</td>\n",
              "      <td id=\"T_daf65_row5_col6\" class=\"data row5 col6\" >...</td>\n",
              "      <td id=\"T_daf65_row5_col7\" class=\"data row5 col7\" >...</td>\n",
              "    </tr>\n",
              "  </tbody>\n",
              "</table>\n"
            ],
            "text/plain": [
              "<pandas.io.formats.style.Styler at 0x1d7ffaef810>"
            ]
          },
          "metadata": {},
          "output_type": "display_data"
        }
      ],
      "source": [
        "SELECT\n",
        "  *\n",
        "from `telco_churn.customer_status`\n",
        "where cltv <= (SELECT ROUND(AVG(cltv),2) as avg_age FROM telco_churn.customer_status)"
      ]
    },
    {
      "cell_type": "markdown",
      "metadata": {
        "id": "Tb_21_VBEgaX"
      },
      "source": [
        "#### <i><b><span style='color:#55679C'>Quest</span> : Pada tabel customer_status, Hitung besarnya presentase setiap status yang ada dan juga jumlah customer tiap statusnya!</b></i>"
      ]
    },
    {
      "cell_type": "code",
      "execution_count": null,
      "metadata": {
        "id": "iQhpJHlzEgaX",
        "outputId": "d1a6a274-2727-4f85-ba58-3d556573687f"
      },
      "outputs": [
        {
          "data": {
            "text/html": [
              "<style type=\"text/css\">\n",
              "</style>\n",
              "<table id=\"T_4361e\">\n",
              "  <thead>\n",
              "    <tr>\n",
              "      <th id=\"T_4361e_level0_col0\" class=\"col_heading level0 col0\" >status</th>\n",
              "      <th id=\"T_4361e_level0_col1\" class=\"col_heading level0 col1\" >total_customer</th>\n",
              "      <th id=\"T_4361e_level0_col2\" class=\"col_heading level0 col2\" >percentage</th>\n",
              "    </tr>\n",
              "  </thead>\n",
              "  <tbody>\n",
              "    <tr>\n",
              "      <td id=\"T_4361e_row0_col0\" class=\"data row0 col0\" >Churned</td>\n",
              "      <td id=\"T_4361e_row0_col1\" class=\"data row0 col1\" >1869</td>\n",
              "      <td id=\"T_4361e_row0_col2\" class=\"data row0 col2\" >26.54</td>\n",
              "    </tr>\n",
              "    <tr>\n",
              "      <td id=\"T_4361e_row1_col0\" class=\"data row1 col0\" >Joined</td>\n",
              "      <td id=\"T_4361e_row1_col1\" class=\"data row1 col1\" >454</td>\n",
              "      <td id=\"T_4361e_row1_col2\" class=\"data row1 col2\" >6.45</td>\n",
              "    </tr>\n",
              "    <tr>\n",
              "      <td id=\"T_4361e_row2_col0\" class=\"data row2 col0\" >Stayed</td>\n",
              "      <td id=\"T_4361e_row2_col1\" class=\"data row2 col1\" >4720</td>\n",
              "      <td id=\"T_4361e_row2_col2\" class=\"data row2 col2\" >67.02</td>\n",
              "    </tr>\n",
              "  </tbody>\n",
              "</table>\n"
            ],
            "text/plain": [
              "<pandas.io.formats.style.Styler at 0x1d7ff9e4a90>"
            ]
          },
          "metadata": {},
          "output_type": "display_data"
        }
      ],
      "source": [
        "SELECT\n",
        "  status,\n",
        "  count(customer_id) as total_customer,\n",
        "  ROUND(count(customer_id)/(SELECT COUNT(customer_id) from `telco_churn.customer_status`)*100,2) as percentage\n",
        "from `telco_churn.customer_status`\n",
        "group by status"
      ]
    },
    {
      "cell_type": "markdown",
      "metadata": {
        "id": "j8hQgUUaEgaX"
      },
      "source": [
        "# <b>B. <span style='color:#0B2F9F'><code>CTE</code></span></b>\n",
        "CTE, atau Common Table Expression, adalah fitur dalam SQL yang memungkinkan Anda untuk mendefinisikan sebuah query sementara yang dapat digunakan dalam query lain. CTE membantu dalam membuat query lebih mudah dibaca dan dipelihara, serta memungkinkan penggunaan rekursi dalam query.\n",
        "\n",
        "<img src=\"https://learnsql.com/blog/sql-common-table-expression-guide/cte_syntax_example.webp\" width=\"50%\">"
      ]
    },
    {
      "cell_type": "markdown",
      "metadata": {
        "id": "lho5WfxzEgaY"
      },
      "source": [
        "#### <i><b><span style='color:#55679C'>Quest</span> : Hitung jumlah customer pada masing - masing offer & jenis contract!</b></i>"
      ]
    },
    {
      "cell_type": "code",
      "execution_count": null,
      "metadata": {
        "id": "NHR74i5oEgaY",
        "outputId": "bddebaa7-5fea-4a69-df90-f13cc9d67378"
      },
      "outputs": [
        {
          "data": {
            "text/html": [
              "<style type=\"text/css\">\n",
              "</style>\n",
              "<table id=\"T_fb04f\">\n",
              "  <thead>\n",
              "    <tr>\n",
              "      <th id=\"T_fb04f_level0_col0\" class=\"col_heading level0 col0\" >offer</th>\n",
              "      <th id=\"T_fb04f_level0_col1\" class=\"col_heading level0 col1\" >contract</th>\n",
              "      <th id=\"T_fb04f_level0_col2\" class=\"col_heading level0 col2\" >total_customer</th>\n",
              "    </tr>\n",
              "  </thead>\n",
              "  <tbody>\n",
              "    <tr>\n",
              "      <td id=\"T_fb04f_row0_col0\" class=\"data row0 col0\" >Offer A</td>\n",
              "      <td id=\"T_fb04f_row0_col1\" class=\"data row0 col1\" >Month-to-Month</td>\n",
              "      <td id=\"T_fb04f_row0_col2\" class=\"data row0 col2\" >15</td>\n",
              "    </tr>\n",
              "    <tr>\n",
              "      <td id=\"T_fb04f_row1_col0\" class=\"data row1 col0\" >Offer A</td>\n",
              "      <td id=\"T_fb04f_row1_col1\" class=\"data row1 col1\" >One Year</td>\n",
              "      <td id=\"T_fb04f_row1_col2\" class=\"data row1 col2\" >97</td>\n",
              "    </tr>\n",
              "    <tr>\n",
              "      <td id=\"T_fb04f_row2_col0\" class=\"data row2 col0\" >Offer A</td>\n",
              "      <td id=\"T_fb04f_row2_col1\" class=\"data row2 col1\" >Two Year</td>\n",
              "      <td id=\"T_fb04f_row2_col2\" class=\"data row2 col2\" >408</td>\n",
              "    </tr>\n",
              "    <tr>\n",
              "      <td id=\"T_fb04f_row3_col0\" class=\"data row3 col0\" >Offer B</td>\n",
              "      <td id=\"T_fb04f_row3_col1\" class=\"data row3 col1\" >Month-to-Month</td>\n",
              "      <td id=\"T_fb04f_row3_col2\" class=\"data row3 col2\" >216</td>\n",
              "    </tr>\n",
              "    <tr>\n",
              "      <td id=\"T_fb04f_row4_col0\" class=\"data row4 col0\" >Offer B</td>\n",
              "      <td id=\"T_fb04f_row4_col1\" class=\"data row4 col1\" >One Year</td>\n",
              "      <td id=\"T_fb04f_row4_col2\" class=\"data row4 col2\" >317</td>\n",
              "    </tr>\n",
              "    <tr>\n",
              "      <td id=\"T_fb04f_row5_col0\" class=\"data row5 col0\" >Offer B</td>\n",
              "      <td id=\"T_fb04f_row5_col1\" class=\"data row5 col1\" >Two Year</td>\n",
              "      <td id=\"T_fb04f_row5_col2\" class=\"data row5 col2\" >291</td>\n",
              "    </tr>\n",
              "    <tr>\n",
              "      <td id=\"T_fb04f_row6_col0\" class=\"data row6 col0\" >Offer C</td>\n",
              "      <td id=\"T_fb04f_row6_col1\" class=\"data row6 col1\" >Month-to-Month</td>\n",
              "      <td id=\"T_fb04f_row6_col2\" class=\"data row6 col2\" >203</td>\n",
              "    </tr>\n",
              "    <tr>\n",
              "      <td id=\"T_fb04f_row7_col0\" class=\"data row7 col0\" >Offer C</td>\n",
              "      <td id=\"T_fb04f_row7_col1\" class=\"data row7 col1\" >One Year</td>\n",
              "      <td id=\"T_fb04f_row7_col2\" class=\"data row7 col2\" >143</td>\n",
              "    </tr>\n",
              "    <tr>\n",
              "      <td id=\"T_fb04f_row8_col0\" class=\"data row8 col0\" >Offer C</td>\n",
              "      <td id=\"T_fb04f_row8_col1\" class=\"data row8 col1\" >Two Year</td>\n",
              "      <td id=\"T_fb04f_row8_col2\" class=\"data row8 col2\" >69</td>\n",
              "    </tr>\n",
              "    <tr>\n",
              "      <td id=\"T_fb04f_row9_col0\" class=\"data row9 col0\" >Offer D</td>\n",
              "      <td id=\"T_fb04f_row9_col1\" class=\"data row9 col1\" >Month-to-Month</td>\n",
              "      <td id=\"T_fb04f_row9_col2\" class=\"data row9 col2\" >434</td>\n",
              "    </tr>\n",
              "    <tr>\n",
              "      <td id=\"T_fb04f_row10_col0\" class=\"data row10 col0\" >Offer D</td>\n",
              "      <td id=\"T_fb04f_row10_col1\" class=\"data row10 col1\" >One Year</td>\n",
              "      <td id=\"T_fb04f_row10_col2\" class=\"data row10 col2\" >111</td>\n",
              "    </tr>\n",
              "    <tr>\n",
              "      <td id=\"T_fb04f_row11_col0\" class=\"data row11 col0\" >Offer D</td>\n",
              "      <td id=\"T_fb04f_row11_col1\" class=\"data row11 col1\" >Two Year</td>\n",
              "      <td id=\"T_fb04f_row11_col2\" class=\"data row11 col2\" >57</td>\n",
              "    </tr>\n",
              "    <tr>\n",
              "      <td id=\"T_fb04f_row12_col0\" class=\"data row12 col0\" >Offer E</td>\n",
              "      <td id=\"T_fb04f_row12_col1\" class=\"data row12 col1\" >Month-to-Month</td>\n",
              "      <td id=\"T_fb04f_row12_col2\" class=\"data row12 col2\" >722</td>\n",
              "    </tr>\n",
              "    <tr>\n",
              "      <td id=\"T_fb04f_row13_col0\" class=\"data row13 col0\" >Offer E</td>\n",
              "      <td id=\"T_fb04f_row13_col1\" class=\"data row13 col1\" >One Year</td>\n",
              "      <td id=\"T_fb04f_row13_col2\" class=\"data row13 col2\" >40</td>\n",
              "    </tr>\n",
              "    <tr>\n",
              "      <td id=\"T_fb04f_row14_col0\" class=\"data row14 col0\" >Offer E</td>\n",
              "      <td id=\"T_fb04f_row14_col1\" class=\"data row14 col1\" >Two Year</td>\n",
              "      <td id=\"T_fb04f_row14_col2\" class=\"data row14 col2\" >43</td>\n",
              "    </tr>\n",
              "    <tr>\n",
              "      <td id=\"T_fb04f_row15_col0\" class=\"data row15 col0\" >nan</td>\n",
              "      <td id=\"T_fb04f_row15_col1\" class=\"data row15 col1\" >Month-to-Month</td>\n",
              "      <td id=\"T_fb04f_row15_col2\" class=\"data row15 col2\" >2020</td>\n",
              "    </tr>\n",
              "    <tr>\n",
              "      <td id=\"T_fb04f_row16_col0\" class=\"data row16 col0\" >nan</td>\n",
              "      <td id=\"T_fb04f_row16_col1\" class=\"data row16 col1\" >One Year</td>\n",
              "      <td id=\"T_fb04f_row16_col2\" class=\"data row16 col2\" >842</td>\n",
              "    </tr>\n",
              "    <tr>\n",
              "      <td id=\"T_fb04f_row17_col0\" class=\"data row17 col0\" >nan</td>\n",
              "      <td id=\"T_fb04f_row17_col1\" class=\"data row17 col1\" >Two Year</td>\n",
              "      <td id=\"T_fb04f_row17_col2\" class=\"data row17 col2\" >1015</td>\n",
              "    </tr>\n",
              "  </tbody>\n",
              "</table>\n"
            ],
            "text/plain": [
              "<pandas.io.formats.style.Styler at 0x1d7fc4d9350>"
            ]
          },
          "metadata": {},
          "output_type": "display_data"
        }
      ],
      "source": [
        "SELECT\n",
        "  offer,\n",
        "  contract,\n",
        "  count(customer_id) as total_customer,\n",
        "from `telco_churn.telco_services`\n",
        "group by offer, contract"
      ]
    },
    {
      "cell_type": "markdown",
      "metadata": {
        "id": "ZB-0PZGnEgaY"
      },
      "source": [
        "#### <i><b><span style='color:#55679C'>Quest</span> : Tampilkan kolom offer & jenis contract dimana jumlah customernya paling besar (saja)!</b></i>"
      ]
    },
    {
      "cell_type": "code",
      "execution_count": null,
      "metadata": {
        "id": "XUiV3KK4EgaZ",
        "outputId": "e4638ca5-6890-43ba-8fc3-c03d01726f16"
      },
      "outputs": [
        {
          "data": {
            "text/html": [
              "<style type=\"text/css\">\n",
              "</style>\n",
              "<table id=\"T_404ef\">\n",
              "  <thead>\n",
              "    <tr>\n",
              "      <th id=\"T_404ef_level0_col0\" class=\"col_heading level0 col0\" >offer</th>\n",
              "      <th id=\"T_404ef_level0_col1\" class=\"col_heading level0 col1\" >contract</th>\n",
              "      <th id=\"T_404ef_level0_col2\" class=\"col_heading level0 col2\" >total_customer</th>\n",
              "    </tr>\n",
              "  </thead>\n",
              "  <tbody>\n",
              "    <tr>\n",
              "      <td id=\"T_404ef_row0_col0\" class=\"data row0 col0\" >nan</td>\n",
              "      <td id=\"T_404ef_row0_col1\" class=\"data row0 col1\" >Month-to-Month</td>\n",
              "      <td id=\"T_404ef_row0_col2\" class=\"data row0 col2\" >2020</td>\n",
              "    </tr>\n",
              "  </tbody>\n",
              "</table>\n"
            ],
            "text/plain": [
              "<pandas.io.formats.style.Styler at 0x1d7ffd1d250>"
            ]
          },
          "metadata": {},
          "output_type": "display_data"
        }
      ],
      "source": [
        "WITH count_cust AS(\n",
        "SELECT\n",
        "  offer,\n",
        "  contract,\n",
        "  count(customer_id) as total_customer,\n",
        "from `telco_churn.telco_services`\n",
        "group by offer, contract)\n",
        "\n",
        "SELECT * from count_cust\n",
        "WHERE total_customer = (SELECT MAX(total_customer) from count_cust)\n"
      ]
    },
    {
      "cell_type": "markdown",
      "metadata": {
        "id": "SFmO_Df8Egaa"
      },
      "source": [
        "#### <i><b><span style='color:#55679C'>Quest</span> : Tampilkan customer_id, gender, age, tenure_in_month, total_revenue dan status dengan status = 'Churned' dan internet_type-nya = 'Fiber Optic'! (Terapkan CTE untuk mengoptimasi query ini)!</b></i>"
      ]
    },
    {
      "cell_type": "code",
      "execution_count": null,
      "metadata": {
        "id": "BrSUyqIzEgaa",
        "outputId": "db0d48f1-ed00-482e-f176-b3d01b892c1b"
      },
      "outputs": [
        {
          "data": {
            "text/html": [
              "<style type=\"text/css\">\n",
              "</style>\n",
              "<table id=\"T_56399\">\n",
              "  <thead>\n",
              "    <tr>\n",
              "      <th id=\"T_56399_level0_col0\" class=\"col_heading level0 col0\" >customer_id</th>\n",
              "      <th id=\"T_56399_level0_col1\" class=\"col_heading level0 col1\" >gender</th>\n",
              "      <th id=\"T_56399_level0_col2\" class=\"col_heading level0 col2\" >age</th>\n",
              "      <th id=\"T_56399_level0_col3\" class=\"col_heading level0 col3\" >tenure_in_months</th>\n",
              "      <th id=\"T_56399_level0_col4\" class=\"col_heading level0 col4\" >total_revenue</th>\n",
              "      <th id=\"T_56399_level0_col5\" class=\"col_heading level0 col5\" >status</th>\n",
              "    </tr>\n",
              "  </thead>\n",
              "  <tbody>\n",
              "    <tr>\n",
              "      <td id=\"T_56399_row0_col0\" class=\"data row0 col0\" >7495-OOKFY</td>\n",
              "      <td id=\"T_56399_row0_col1\" class=\"data row0 col1\" >Female</td>\n",
              "      <td id=\"T_56399_row0_col2\" class=\"data row0 col2\" >74</td>\n",
              "      <td id=\"T_56399_row0_col3\" class=\"data row0 col3\" >8</td>\n",
              "      <td id=\"T_56399_row0_col4\" class=\"data row0 col4\" >1024.1</td>\n",
              "      <td id=\"T_56399_row0_col5\" class=\"data row0 col5\" >Churned</td>\n",
              "    </tr>\n",
              "    <tr>\n",
              "      <td id=\"T_56399_row1_col0\" class=\"data row1 col0\" >1658-BYGOY</td>\n",
              "      <td id=\"T_56399_row1_col1\" class=\"data row1 col1\" >Male</td>\n",
              "      <td id=\"T_56399_row1_col2\" class=\"data row1 col2\" >71</td>\n",
              "      <td id=\"T_56399_row1_col3\" class=\"data row1 col3\" >18</td>\n",
              "      <td id=\"T_56399_row1_col4\" class=\"data row1 col4\" >1910.88</td>\n",
              "      <td id=\"T_56399_row1_col5\" class=\"data row1 col5\" >Churned</td>\n",
              "    </tr>\n",
              "    <tr>\n",
              "      <td id=\"T_56399_row2_col0\" class=\"data row2 col0\" >4598-XLKNJ</td>\n",
              "      <td id=\"T_56399_row2_col1\" class=\"data row2 col1\" >Female</td>\n",
              "      <td id=\"T_56399_row2_col2\" class=\"data row2 col2\" >78</td>\n",
              "      <td id=\"T_56399_row2_col3\" class=\"data row2 col3\" >25</td>\n",
              "      <td id=\"T_56399_row2_col4\" class=\"data row2 col4\" >2995.07</td>\n",
              "      <td id=\"T_56399_row2_col5\" class=\"data row2 col5\" >Churned</td>\n",
              "    </tr>\n",
              "    <tr>\n",
              "      <td id=\"T_56399_row3_col0\" class=\"data row3 col0\" >4846-WHAFZ</td>\n",
              "      <td id=\"T_56399_row3_col1\" class=\"data row3 col1\" >Female</td>\n",
              "      <td id=\"T_56399_row3_col2\" class=\"data row3 col2\" >80</td>\n",
              "      <td id=\"T_56399_row3_col3\" class=\"data row3 col3\" >37</td>\n",
              "      <td id=\"T_56399_row3_col4\" class=\"data row3 col4\" >3102.36</td>\n",
              "      <td id=\"T_56399_row3_col5\" class=\"data row3 col5\" >Churned</td>\n",
              "    </tr>\n",
              "    <tr>\n",
              "      <td id=\"T_56399_row4_col0\" class=\"data row4 col0\" >4412-YLTKF</td>\n",
              "      <td id=\"T_56399_row4_col1\" class=\"data row4 col1\" >Female</td>\n",
              "      <td id=\"T_56399_row4_col2\" class=\"data row4 col2\" >72</td>\n",
              "      <td id=\"T_56399_row4_col3\" class=\"data row4 col3\" >27</td>\n",
              "      <td id=\"T_56399_row4_col4\" class=\"data row4 col4\" >2235.41</td>\n",
              "      <td id=\"T_56399_row4_col5\" class=\"data row4 col5\" >Churned</td>\n",
              "    </tr>\n",
              "    <tr>\n",
              "      <td id=\"T_56399_row5_col0\" class=\"data row5 col0\" >...</td>\n",
              "      <td id=\"T_56399_row5_col1\" class=\"data row5 col1\" >...</td>\n",
              "      <td id=\"T_56399_row5_col2\" class=\"data row5 col2\" >...</td>\n",
              "      <td id=\"T_56399_row5_col3\" class=\"data row5 col3\" >...</td>\n",
              "      <td id=\"T_56399_row5_col4\" class=\"data row5 col4\" >...</td>\n",
              "      <td id=\"T_56399_row5_col5\" class=\"data row5 col5\" >...</td>\n",
              "    </tr>\n",
              "  </tbody>\n",
              "</table>\n"
            ],
            "text/plain": [
              "<pandas.io.formats.style.Styler at 0x1d7ff904c90>"
            ]
          },
          "metadata": {},
          "output_type": "display_data"
        }
      ],
      "source": [
        "WITH ChurnedCustomerInfo AS (\n",
        "    SELECT\n",
        "        cs.customer_id,\n",
        "        cd.gender,\n",
        "        cd.age,\n",
        "        cs.status\n",
        "    FROM\n",
        "        telco_churn.customer_status cs\n",
        "    JOIN\n",
        "        telco_churn.customer_demography cd ON cs.customer_id = cd.customer_id\n",
        "    WHERE\n",
        "        cs.status = 'Churned'\n",
        ")\n",
        "SELECT\n",
        "    cci.customer_id,\n",
        "    cci.gender,\n",
        "    cci.age,\n",
        "    ts.tenure_in_months,\n",
        "    ts.total_revenue,\n",
        "    cci.status\n",
        "FROM\n",
        "    ChurnedCustomerInfo cci\n",
        "JOIN\n",
        "    telco_churn.telco_services ts ON cci.customer_id = ts.customer_id\n",
        "WHERE\n",
        "    ts.internet_type = 'Fiber Optic';"
      ]
    }
  ],
  "metadata": {
    "kernelspec": {
      "display_name": "Python 3",
      "language": "python",
      "name": "python3"
    },
    "language_info": {
      "codemirror_mode": {
        "name": "ipython",
        "version": 3
      },
      "file_extension": ".py",
      "mimetype": "text/x-python",
      "name": "python",
      "nbconvert_exporter": "python",
      "pygments_lexer": "ipython3",
      "version": "3.11.3"
    },
    "colab": {
      "provenance": []
    }
  },
  "nbformat": 4,
  "nbformat_minor": 0
}